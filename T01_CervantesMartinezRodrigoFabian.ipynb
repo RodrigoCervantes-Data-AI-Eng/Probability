{
  "nbformat": 4,
  "nbformat_minor": 0,
  "metadata": {
    "colab": {
      "provenance": [],
      "collapsed_sections": [
        "JinSa0tWw8lp",
        "Nj5EDPb56u6r",
        "b3BaJSW8CAGM",
        "lJKuCHNTGtYR"
      ],
      "authorship_tag": "ABX9TyMoo3AowNG8sgAixgM+Q5+a",
      "include_colab_link": true
    },
    "kernelspec": {
      "name": "python3",
      "display_name": "Python 3"
    },
    "language_info": {
      "name": "python"
    }
  },
  "cells": [
    {
      "cell_type": "markdown",
      "metadata": {
        "id": "view-in-github",
        "colab_type": "text"
      },
      "source": [
        "<a href=\"https://colab.research.google.com/github/RodrigoCervantes-Data-AI-Eng/Probability/blob/main/T01_CervantesMartinezRodrigoFabian.ipynb\" target=\"_parent\"><img src=\"https://colab.research.google.com/assets/colab-badge.svg\" alt=\"Open In Colab\"/></a>"
      ]
    },
    {
      "cell_type": "markdown",
      "source": [
        "# Ejercicios de conjuntos\n",
        "A={CX,XC,CC} y B={CX,XX} calcular:\n",
        "1. A ∪ B\n",
        "2. A ∩ B\n",
        "3. ~A\n",
        "4. A − B"
      ],
      "metadata": {
        "id": "JinSa0tWw8lp"
      }
    },
    {
      "cell_type": "code",
      "source": [
        "#Conjuntos\n",
        "A = {'CX','XC','CC'}\n",
        "B = {'CX','XX'}\n",
        "\n",
        "#Union\n",
        "union = A | B\n",
        "print(f\"1.- (A u B) = {union}\")\n",
        "\n",
        "#Interseccion\n",
        "interseccion = A & B\n",
        "print(f\"2.- (A n B) = {interseccion}\")\n",
        "\n",
        "#~A\n",
        "S = union\n",
        "No_A = S - A\n",
        "print(f\"3.- (~A) = {No_A}\")\n",
        "\n",
        "#A-B\n",
        "diferencia = A - B\n",
        "print(f\"4.- (A - B) = {diferencia}\")"
      ],
      "metadata": {
        "colab": {
          "base_uri": "https://localhost:8080/"
        },
        "id": "SgH_caLUyHxs",
        "outputId": "d6959618-9d5e-405f-848c-9c266dc42fc1"
      },
      "execution_count": null,
      "outputs": [
        {
          "output_type": "stream",
          "name": "stdout",
          "text": [
            "1.- (A u B) = {'XC', 'CC', 'CX', 'XX'}\n",
            "2.- (A n B) = {'CX'}\n",
            "3.- (~A) = {'XX'}\n",
            "4.- (A - B) = {'XC', 'CC'}\n"
          ]
        }
      ]
    },
    {
      "cell_type": "markdown",
      "source": [
        "# Ejercicios de conjuntos y probabilidad\n",
        "Si A y B son dos sucesos disjuntos con probabilidades P(A) = 0.37 y P(B) = 0.44\n",
        "calcular:\n",
        "\n",
        "1. P(~ A)\n",
        "2. P(~ B)\n",
        "3. P(A u B)\n",
        "4. P(A n B)\n",
        "5. P(A n ~ B)\n",
        "6. P(~ A n B)"
      ],
      "metadata": {
        "id": "Nj5EDPb56u6r"
      }
    },
    {
      "cell_type": "code",
      "source": [
        "PA = 0.37\n",
        "PB = 0.44\n",
        "\n",
        "#P(~A)\n",
        "PNo_A = 1 - PA\n",
        "print(f\"1.- P(~A) = {PNo_A}\")\n",
        "\n",
        "#P(~B)\n",
        "PNo_B = 1 - PB\n",
        "print(f\"2.- P(~B) = {PNo_B}\")\n",
        "\n",
        "#P(A u B)\n",
        "PA_union_B = PA + PB\n",
        "print(f\"3.- P(A u B) = {PA_union_B}\")\n",
        "\n",
        "#P(A n B) pero como son eventos disjuntos, no exite interseccion\n",
        "PA_interseccion_B = 0\n",
        "print(f\"4.- P(A n B) = {PA_interseccion_B}\")\n",
        "\n",
        "#P(A n ~B)\n",
        "PA_interseccion_No_B = PA * PNo_B\n",
        "print(f\"5.- P(A n ~B) = {PA_interseccion_No_B}\")\n",
        "\n",
        "#P(~A n B)\n",
        "PNo_A_interseccion_B = PNo_A * PB\n",
        "print(f\"6.- P(~A n B) = {PNo_A_interseccion_B}\")"
      ],
      "metadata": {
        "colab": {
          "base_uri": "https://localhost:8080/"
        },
        "id": "uG_3J2oZ9S89",
        "outputId": "7fa62e70-344e-4a97-efd9-3d1e47fa2682"
      },
      "execution_count": null,
      "outputs": [
        {
          "output_type": "stream",
          "name": "stdout",
          "text": [
            "1.- P(~A) = 0.63\n",
            "2.- P(~B) = 0.56\n",
            "3.- P(A u B) = 0.81\n",
            "4.- P(A n B) = 0\n",
            "5.- P(A n ~B) = 0.20720000000000002\n",
            "6.- P(~A n B) = 0.2772\n"
          ]
        }
      ]
    },
    {
      "cell_type": "markdown",
      "source": [
        "# Probabilidad condicional\n",
        "## Ejercicio 1\n",
        "En una facultad el 25% de los alumnos suspendió matemáticas, el 15% química y el\n",
        "10% las dos materias. Se selecciona un estudiante al azar.\n",
        "1. Si suspendió química, ¿Cuál es la probabilidad de que suspendiera\n",
        "matemáticas?\n",
        "2. Si suspendió matemáticas, ¿Cuál es la probabilidad de que suspendiera\n",
        "química?\n",
        "3. ¿Cuál es la probabilidad de que haya suspendido matemáticas o química?"
      ],
      "metadata": {
        "id": "b3BaJSW8CAGM"
      }
    },
    {
      "cell_type": "code",
      "source": [
        "PM = 0.25\n",
        "PQ = 0.15\n",
        "PM_interseccion_Q = 0.10\n",
        "\n",
        "#Pregunta 1, P(M|Q) = ?\n",
        "PM_dado_Q = PM_interseccion_Q/PQ\n",
        "print(f\"1.- P(M|Q) = {PM_dado_Q}\")\n",
        "\n",
        "#Pregunta 2, P(Q|M) = ?\n",
        "PQ_dado_M = PM_interseccion_Q/PM\n",
        "print(f\"2.- P(Q|M) = {PQ_dado_M}\")\n",
        "\n",
        "#Pregunta 2, P(M u Q) = ?\n",
        "PM_union_M = PM + PQ - PM_interseccion_Q\n",
        "print(f\"3.- P(M u Q) = {PM_union_M}\")"
      ],
      "metadata": {
        "colab": {
          "base_uri": "https://localhost:8080/"
        },
        "id": "WOOvAipYCbg_",
        "outputId": "b6cea347-964b-4c67-adff-3e9444a36061"
      },
      "execution_count": null,
      "outputs": [
        {
          "output_type": "stream",
          "name": "stdout",
          "text": [
            "1.- P(M|Q) = 0.6666666666666667\n",
            "2.- P(Q|M) = 0.4\n",
            "3.- P(M u Q) = 0.30000000000000004\n"
          ]
        }
      ]
    },
    {
      "cell_type": "markdown",
      "source": [
        "# Regla de Bayes\n",
        "## Ejercicio 1\n",
        "En un consultorio, el 40% de los pacientes fingen tener una enfermedad (para obtener\n",
        "incapacidad). Además, el 10% de los pacientes son hombres. La probabilidad de que un\n",
        "paciente finja una enfermedad dado que es hombre es del 50%. Calcular la probabilidad\n",
        "de que un paciente sea hombre, dado que finge una enfermedad."
      ],
      "metadata": {
        "id": "lJKuCHNTGtYR"
      }
    },
    {
      "cell_type": "code",
      "source": [
        "#P(F) es el porcentaje de personas que fingen tener una enfermedad\n",
        "#P(H) es el porcentaje de hombres\n",
        "PF = 0.4\n",
        "PH = 0.1\n",
        "PF_dado_H = 0.5\n",
        "\n",
        "#Encontrar P(H|F) = ?\n",
        "PH_dado_F = (PH * PF_dado_H)/PF\n",
        "print(f\"La probabilidad de que un paciente sea hombre, dado que finge una enfermedad es de : {PH_dado_F}\")"
      ],
      "metadata": {
        "id": "9xYq1XR5HM6B",
        "colab": {
          "base_uri": "https://localhost:8080/"
        },
        "outputId": "fa75e102-5b9e-4dc8-8bf1-a0ccf8500491"
      },
      "execution_count": null,
      "outputs": [
        {
          "output_type": "stream",
          "name": "stdout",
          "text": [
            "La probabilidad de que un paciente sea hombre, dado que finge una enfermedad es de : 0.125\n"
          ]
        }
      ]
    },
    {
      "cell_type": "markdown",
      "source": [
        "## Ejercicio 2\n",
        "En un acuario se tienen solo 2 especies de peces. El 40% de los peces son azules, el\n",
        "60% son rojos. De los azules, el 30% son machos, mientras que de los rojos el 40% son\n",
        "hembras. A) si se selecciona un pez hembra, ¿Cuál es la probabilidad de que sea azul?"
      ],
      "metadata": {
        "id": "F32VDNnIMg55"
      }
    },
    {
      "cell_type": "code",
      "source": [
        "#P(A) son los peces azules\n",
        "#P(R) son los peces rojos\n",
        "#P(H|A) son las hembras azules\n",
        "#P(H|R) son las hembras rojas\n",
        "#P(H) son todas las hembras\n",
        "#P(A|H) = ?\n",
        "PA = 0.4\n",
        "PR = 0.6\n",
        "PH_dado_A = 0.7\n",
        "PH_dado_R = 0.4\n",
        "PH = (PA * PH_dado_A) + (PR * PH_dado_R)\n",
        "PA_dado_H = (PA * PH_dado_A)/PH\n",
        "print(f\"La probabilidad de que el pez seleccionado sea Azul dado que es hembra es de: {PA_dado_H}\")"
      ],
      "metadata": {
        "colab": {
          "base_uri": "https://localhost:8080/"
        },
        "id": "SgxR-OjONkQE",
        "outputId": "77176b81-606f-4655-ab8b-14b218b7e3aa"
      },
      "execution_count": null,
      "outputs": [
        {
          "output_type": "stream",
          "name": "stdout",
          "text": [
            "La probabilidad de que el pez seleccionado sea Azul dado que es hembra es de: 0.5384615384615384\n"
          ]
        }
      ]
    },
    {
      "cell_type": "markdown",
      "source": [
        "# Probabilidad binomial\n",
        "## Ejercicio 1\n",
        "De una población de ballenas, se sabe que el 60% son machos. Si extraemos un\n",
        "conjunto con 10 ballenas, ¿Cuál es la probabilidad de que en ese conjunto haya 7\n",
        "hembras?"
      ],
      "metadata": {
        "id": "XwPTVZ5_QQOi"
      }
    },
    {
      "cell_type": "code",
      "source": [
        "#X = 7 (número de hembras en el conjunto)\n",
        "#n = 10 (el número de experimentos, como son 10 individuos...)\n",
        "#P = 0.4 (la probabilidad de hembras en el conjunto completo)\n",
        "#p(7) = ?\n",
        "X = 7\n",
        "n = 10\n",
        "P = 0.4\n",
        "\n",
        "#Funcion para el factorial\n",
        "def factorial(n):\n",
        "   if n==0 or n==1:\n",
        "            resultado=1\n",
        "   elif n>1:\n",
        "            resultado=n*factorial(n-1)\n",
        "   return resultado\n",
        "\n",
        "#Calculando el coeficiente binomial\n",
        "nFact = factorial(n)\n",
        "xFact = factorial(X)\n",
        "nMenosxFact = factorial(n-X)\n",
        "CBinomial = nFact/(xFact * nMenosxFact)\n",
        "\n",
        "p7 = CBinomial*pow(P,X)*(pow((1-P),n-X))\n",
        "print(f\"La probabilidad de que en ese conjunto haya 7 hembras es de: {p7}\")"
      ],
      "metadata": {
        "colab": {
          "base_uri": "https://localhost:8080/"
        },
        "id": "j1I3LI8ZRs9s",
        "outputId": "dd37b1f5-6a0e-4ee3-cee0-3136c913fc5e"
      },
      "execution_count": null,
      "outputs": [
        {
          "output_type": "stream",
          "name": "stdout",
          "text": [
            "La probabilidad de que en ese conjunto haya 7 hembras es de: 0.042467328000000006\n"
          ]
        }
      ]
    }
  ]
}